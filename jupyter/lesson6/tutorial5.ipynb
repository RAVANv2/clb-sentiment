{
 "cells": [
  {
   "cell_type": "markdown",
   "metadata": {},
   "source": [
    "# Tutorial 5\n",
    "\n",
    "In this tutorial we elaborate a way to establish a lookup table for a person name string variable, which consists of multiple components, i.e. first name, middle name, last name.\n",
    "\n",
    "As a library we use _metaphone_ which may not be installed in your environment. When you are based on conda python envrionment you may have to install the package via the _pip_ command as described here\n",
    "\n",
    "* https://www.puzzlr.org/install-packages-pip-conda-environment/\n",
    "\n",
    "## Introduction\n",
    "\n",
    "Suppose that the person is called _Peter Alfred Escher_ and we got that name via an official API.\n",
    "\n",
    "We use the standard library _itertools_ to calcutlate our permutations and we require the doublemetaphone algorithm."
   ]
  },
  {
   "cell_type": "code",
   "execution_count": 1,
   "metadata": {},
   "outputs": [],
   "source": [
    "import itertools\n",
    "from metaphone import doublemetaphone"
   ]
  },
  {
   "cell_type": "markdown",
   "metadata": {},
   "source": [
    "Suppose we retrieved the full qualified name in one of our variables and we have also a unique identifier of this person."
   ]
  },
  {
   "cell_type": "code",
   "execution_count": 2,
   "metadata": {},
   "outputs": [],
   "source": [
    "person_qualified_name = \"Peter Alfed Escher\"\n",
    "person_id = \"A123\""
   ]
  },
  {
   "cell_type": "markdown",
   "metadata": {},
   "source": [
    "As a fresh up,  we use the _doubelmetaphone_ alogrithm to generate a tuple of keys which can be used for the comparison. Refer to the tutorial __[Medium Towards Data Science Tutorial](https://towardsdatascience.com/python-tutorial-fuzzy-name-matching-algorithms-7a6f43322cc5)__"
   ]
  },
  {
   "cell_type": "code",
   "execution_count": 3,
   "metadata": {},
   "outputs": [
    {
     "data": {
      "text/plain": [
       "\"('PTRLFTXR', 'PTRLFTSKR')\""
      ]
     },
     "execution_count": 3,
     "metadata": {},
     "output_type": "execute_result"
    }
   ],
   "source": [
    "tp = doublemetaphone(\"Peter Alfed Escher\")\n",
    "tp.__str__()"
   ]
  },
  {
   "cell_type": "markdown",
   "metadata": {},
   "source": [
    "We now want to calculate all permutations of this name, which could be used in a Twitter account name. I.e. potentially our person will miss out some components in his Twittter account name, he could use the name \"Peter Escher\" or \"Peter A. Escher\".\n",
    "As a first step we calculate all permutations of 3 the name components:"
   ]
  },
  {
   "cell_type": "code",
   "execution_count": 4,
   "metadata": {
    "scrolled": true
   },
   "outputs": [
    {
     "name": "stdout",
     "output_type": "stream",
     "text": [
      "[('peter', 'alfred', 'escher'), ('peter', 'escher', 'alfred'), ('alfred', 'peter', 'escher'), ('alfred', 'escher', 'peter'), ('escher', 'peter', 'alfred'), ('escher', 'alfred', 'peter')]\n"
     ]
    }
   ],
   "source": [
    "name_list = list( itertools.permutations([\"peter\", \"alfred\", \"escher\"]))\n",
    "print(name_list)"
   ]
  },
  {
   "cell_type": "markdown",
   "metadata": {},
   "source": [
    "## Build up a Lookup Directory \n",
    "We now to build up a lookup dictionary. Each name component combination we concatenate into a single string, generate a metaphone tuple and add it to our dictionary. As value we store our unique person identifier. For this we define a function."
   ]
  },
  {
   "cell_type": "code",
   "execution_count": 5,
   "metadata": {},
   "outputs": [
    {
     "name": "stdout",
     "output_type": "stream",
     "text": [
      "Our dictionary: [{'PTRLFRTXR': ['A123'], 'PTRXRLFRT': ['A123'], 'ALFRTPTRXR': ['A123'], 'ALFRTXRPTR': ['A123'], 'AXRPTRLFRT': ['A123'], 'AXRLFRTPTR': ['A123']}, {'PTRLFRTSKR': ['A123'], 'PTRSKRLFRT': ['A123'], 'ALFRTPTRSKR': ['A123'], 'ALFRTSKRPTR': ['A123'], 'ASKRPTRLFRT': ['A123'], 'ASKRLFRTPTR': ['A123']}]\n"
     ]
    }
   ],
   "source": [
    "lookup_dict = [{},{}]\n",
    "\n",
    "def addPermutationsToDictionary(name_list,person_id):\n",
    "    for name_component in name_list:\n",
    "        name = ''.join(name_component)\n",
    "        metaphone_tuple = doublemetaphone(name)\n",
    "        lookup_dict[0][metaphone_tuple[0]] = [person_id]\n",
    "        lookup_dict[1][metaphone_tuple[1]] = [person_id]\n",
    "\n",
    "addPermutationsToDictionary(name_list, person_id)\n",
    "print(\"Our dictionary: \"+lookup_dict.__str__())"
   ]
  },
  {
   "cell_type": "markdown",
   "metadata": {},
   "source": [
    "As one can see in the above output. We add the value (person identifier) in an list. We are doing that because potentially we have a second name combination which will map to the same key and therefore we have to ensure that we can store multiple person identifiers.\n",
    "\n",
    "Perhaps our user was missing out a name component and was registering on Twitter with the account name _Peter Escher_ or as _Escher Peter_. So let's get  also all these permutations. This can be easily achieved by passing an additional parameter (in our case 2) to the _permutations_ method, which identifies the number of elements in the permutations."
   ]
  },
  {
   "cell_type": "code",
   "execution_count": 6,
   "metadata": {},
   "outputs": [
    {
     "name": "stdout",
     "output_type": "stream",
     "text": [
      "[('peter', 'alfred'), ('peter', 'escher'), ('alfred', 'peter'), ('alfred', 'escher'), ('escher', 'peter'), ('escher', 'alfred')]\n"
     ]
    }
   ],
   "source": [
    "name_list = list( itertools.permutations([\"peter\", \"alfred\", \"escher\"],2))\n",
    "print(name_list)"
   ]
  },
  {
   "cell_type": "markdown",
   "metadata": {},
   "source": [
    "Let's add our permutations to our lookup dictionary"
   ]
  },
  {
   "cell_type": "code",
   "execution_count": 7,
   "metadata": {},
   "outputs": [
    {
     "name": "stdout",
     "output_type": "stream",
     "text": [
      "Our dictionary: [{'PTRLFRTXR': ['A123'], 'PTRXRLFRT': ['A123'], 'ALFRTPTRXR': ['A123'], 'ALFRTXRPTR': ['A123'], 'AXRPTRLFRT': ['A123'], 'AXRLFRTPTR': ['A123'], 'PTRLFRT': ['A123'], 'PTRXR': ['A123'], 'ALFRTPTR': ['A123'], 'ALFRTXR': ['A123'], 'AXRPTR': ['A123'], 'AXRLFRT': ['A123']}, {'PTRLFRTSKR': ['A123'], 'PTRSKRLFRT': ['A123'], 'ALFRTPTRSKR': ['A123'], 'ALFRTSKRPTR': ['A123'], 'ASKRPTRLFRT': ['A123'], 'ASKRLFRTPTR': ['A123'], '': ['A123'], 'PTRSKR': ['A123'], 'ALFRTSKR': ['A123'], 'ASKRPTR': ['A123'], 'ASKRLFRT': ['A123']}]\n"
     ]
    }
   ],
   "source": [
    "addPermutationsToDictionary(name_list, person_id)\n",
    "print(\"Our dictionary: \"+lookup_dict.__str__())"
   ]
  },
  {
   "cell_type": "markdown",
   "metadata": {},
   "source": [
    "To finalize this, our user could have just one of his name component used when registering with Twitter."
   ]
  },
  {
   "cell_type": "code",
   "execution_count": 8,
   "metadata": {},
   "outputs": [
    {
     "name": "stdout",
     "output_type": "stream",
     "text": [
      "[('peter',), ('alfred',), ('escher',)]\n"
     ]
    }
   ],
   "source": [
    "name_list = list( itertools.permutations([\"peter\", \"alfred\", \"escher\"],1))\n",
    "print(name_list)"
   ]
  },
  {
   "cell_type": "markdown",
   "metadata": {},
   "source": [
    "Let's add also this permutation to our dictionary."
   ]
  },
  {
   "cell_type": "code",
   "execution_count": 9,
   "metadata": {},
   "outputs": [],
   "source": [
    "addPermutationsToDictionary(name_list, person_id)"
   ]
  },
  {
   "cell_type": "markdown",
   "metadata": {},
   "source": [
    "Let's refactor our method, we have to check now also if we have already a lookup key"
   ]
  },
  {
   "cell_type": "code",
   "execution_count": 10,
   "metadata": {},
   "outputs": [
    {
     "name": "stdout",
     "output_type": "stream",
     "text": [
      "Our dictionary: [{'PTRLFRTXR': ['A123'], 'PTRXRLFRT': ['A123'], 'ALFRTPTRXR': ['A123'], 'ALFRTXRPTR': ['A123'], 'AXRPTRLFRT': ['A123'], 'AXRLFRTPTR': ['A123'], 'PTRLFRT': ['A123'], 'PTRXR': ['A123'], 'ALFRTPTR': ['A123'], 'ALFRTXR': ['A123'], 'AXRPTR': ['A123'], 'AXRLFRT': ['A123'], 'PTR': ['A123', 'A555'], 'ALFRT': ['A123'], 'AXR': ['A123']}, {'PTRLFRTSKR': ['A123'], 'PTRSKRLFRT': ['A123'], 'ALFRTPTRSKR': ['A123'], 'ALFRTSKRPTR': ['A123'], 'ASKRPTRLFRT': ['A123'], 'ASKRLFRTPTR': ['A123'], '': ['A123', 'A555'], 'PTRSKR': ['A123'], 'ALFRTSKR': ['A123'], 'ASKRPTR': ['A123'], 'ASKRLFRT': ['A123'], 'ASKR': ['A123']}]\n"
     ]
    }
   ],
   "source": [
    "def addPermutationsToDictionary(name_list,person_id):\n",
    "    for name_component in name_list:\n",
    "        name = ''.join(name_component)\n",
    "        metaphone_tuple = doublemetaphone(name)\n",
    "        if metaphone_tuple[0] in lookup_dict[0]:\n",
    "            lookup_dict[0][metaphone_tuple[0]]\n",
    "            lookup_dict[0][metaphone_tuple[0]].append(person_id)\n",
    "        else:\n",
    "            lookup_dict[0][metaphone_tuple[0]] = [person_id]\n",
    "        if metaphone_tuple[1] in lookup_dict[1]:\n",
    "            lookup_dict[1][metaphone_tuple[1]]\n",
    "            lookup_dict[1][metaphone_tuple[1]].append(person_id)\n",
    "        else:\n",
    "            lookup_dict[1][metaphone_tuple[1]] = [person_id]\n",
    "    \n",
    "    \n",
    "addPermutationsToDictionary([\"Peter\"], \"A555\")\n",
    "print(\"Our dictionary: \"+lookup_dict.__str__())"
   ]
  },
  {
   "cell_type": "markdown",
   "metadata": {},
   "source": [
    "As one can see in the above example. Two keys are now pointing to two person identifiers: ['A123','A155']"
   ]
  },
  {
   "cell_type": "code",
   "execution_count": null,
   "metadata": {},
   "outputs": [],
   "source": []
  }
 ],
 "metadata": {
  "kernelspec": {
   "display_name": "Python 3",
   "language": "python",
   "name": "python3"
  },
  "language_info": {
   "codemirror_mode": {
    "name": "ipython",
    "version": 3
   },
   "file_extension": ".py",
   "mimetype": "text/x-python",
   "name": "python",
   "nbconvert_exporter": "python",
   "pygments_lexer": "ipython3",
   "version": "3.7.1"
  }
 },
 "nbformat": 4,
 "nbformat_minor": 2
}
