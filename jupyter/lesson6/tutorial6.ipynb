{
 "cells": [
  {
   "cell_type": "markdown",
   "metadata": {},
   "source": [
    "# Lesson 6\n",
    "\n",
    "In this tutorial we elaborate a way to establish a lookup table for a person name string variable, which consists of multiple components, i.e. first name, middle name, last name.\n",
    "\n",
    "As a library we use _metaphone_ which may not be installed in your environment. When you are based on Anaconda python envrionment you may have to install the package via the _pip_ command as described here\n",
    "\n",
    "* https://www.puzzlr.org/install-packages-pip-conda-environment/\n",
    "\n",
    "`/Users/felix/anaconda3/bin/pip install metaphone`\n",
    " \n",
    "\n",
    "## Introduction\n",
    "\n",
    "Suppose that the person is called _Peter Alfred Escher_ and we got that name via an official API.\n",
    "\n",
    "We use the standard library _itertools_ to calcutlate all  combinations and we apply then the doublemetaphone algorithm."
   ]
  },
  {
   "cell_type": "code",
   "execution_count": 1,
   "metadata": {},
   "outputs": [],
   "source": [
    "import itertools\n",
    "from metaphone import doublemetaphone"
   ]
  },
  {
   "cell_type": "markdown",
   "metadata": {},
   "source": [
    "Suppose we retrieved the full qualified name in one of our variables and we have also a unique identifier of this person."
   ]
  },
  {
   "cell_type": "code",
   "execution_count": 2,
   "metadata": {},
   "outputs": [],
   "source": [
    "person_qualified_name = \"Peter Alfed Escher\""
   ]
  },
  {
   "cell_type": "markdown",
   "metadata": {},
   "source": [
    "As a fresh up,  we use the _doubelmetaphone_ alogrithm to generate a tuple of keys which can be used for the comparison. Refer to the tutorial __[Medium Towards Data Science Tutorial](https://towardsdatascience.com/python-tutorial-fuzzy-name-matching-algorithms-7a6f43322cc5)__"
   ]
  },
  {
   "cell_type": "markdown",
   "metadata": {},
   "source": [
    "## Should we use permutations or combinations\n",
    "\n",
    "What should we use for our name component algorithm, `permutations` or `combinations` ?\n",
    "\n",
    "Let's quickly check the differences by applying the relevant functions in the `itertools` library.\n",
    "\n",
    "* Assume we have the name \"peter alfred escher\".\n",
    "\n",
    "Let's apply first the `combinations` function:"
   ]
  },
  {
   "cell_type": "code",
   "execution_count": 22,
   "metadata": {},
   "outputs": [
    {
     "name": "stdout",
     "output_type": "stream",
     "text": [
      "[('peter', 'alfred'), ('peter', 'escher'), ('alfred', 'escher')]\n"
     ]
    }
   ],
   "source": [
    "name_list = list( itertools.combinations([\"peter\", \"alfred\", \"escher\"],2))\n",
    "print(name_list)"
   ]
  },
  {
   "cell_type": "markdown",
   "metadata": {},
   "source": [
    "As well as the `permutations` function:"
   ]
  },
  {
   "cell_type": "code",
   "execution_count": 4,
   "metadata": {
    "scrolled": true
   },
   "outputs": [
    {
     "name": "stdout",
     "output_type": "stream",
     "text": [
      "[('peter', 'alfred'), ('peter', 'escher'), ('alfred', 'peter'), ('alfred', 'escher'), ('escher', 'peter'), ('escher', 'alfred')]\n"
     ]
    }
   ],
   "source": [
    "name_list = list( itertools.permutations([\"peter\", \"alfred\", \"escher\"],2))\n",
    "print(name_list)"
   ]
  },
  {
   "cell_type": "markdown",
   "metadata": {},
   "source": [
    "As you can see within the permutation the **order of a name component plays a role**. There is a tuple for ('peter','alfred') as well as one for ('alfred','peter'). Within the combination the **order of a name component is irrelevant**.\n",
    "\n",
    "For us the order will not play a role, 'peter escher' is treated as 'escher peter'. We will sort the name components before we apply the double methaphone algorithm.\n"
   ]
  },
  {
   "cell_type": "markdown",
   "metadata": {},
   "source": [
    "## Build up a Lookup Directory \n",
    "We now to build up a lookup directory. Each name tuple combination we concatenate into a single string, generate a metaphone tuple and add it to our directory. As value we store our unique person identifier. \n",
    "\n",
    "When we generate our name string we ensure that the elements are sorted."
   ]
  },
  {
   "cell_type": "code",
   "execution_count": 5,
   "metadata": {},
   "outputs": [],
   "source": [
    "def generate_normalized_name(name_tuple):\n",
    "    name_arr = list(name_tuple)\n",
    "    name_arr.sort()\n",
    "    name_str = ''.join(name_arr)\n",
    "    return name_str.lower() "
   ]
  },
  {
   "cell_type": "code",
   "execution_count": 6,
   "metadata": {},
   "outputs": [
    {
     "data": {
      "text/plain": [
       "'alfredescherpeter'"
      ]
     },
     "execution_count": 6,
     "metadata": {},
     "output_type": "execute_result"
    }
   ],
   "source": [
    "generate_normalized_name((\"Peter\",\"Alfred\",\"Escher\"))"
   ]
  },
  {
   "cell_type": "code",
   "execution_count": 7,
   "metadata": {},
   "outputs": [],
   "source": [
    "def add_combinations_to_directory(name_tuple_list,person_id):\n",
    "    for name_tuple in name_tuple_list:\n",
    "        name_str = generate_normalized_name(name_tuple)\n",
    "        metaphone_tuple = doublemetaphone(name_str)\n",
    "        lookup_dict[0][metaphone_tuple[0]] = [person_id]\n",
    "        lookup_dict[1][metaphone_tuple[1]] = [person_id]"
   ]
  },
  {
   "cell_type": "code",
   "execution_count": 8,
   "metadata": {},
   "outputs": [
    {
     "name": "stdout",
     "output_type": "stream",
     "text": [
      "Name combinations: [('peter', 'alfred'), ('peter', 'escher'), ('alfred', 'escher')]\n",
      "Lookup directory: ({'ALFRTPTR': ['A123'], 'AXRPTR': ['A123'], 'ALFRTXR': ['A123']}, {'': ['A123'], 'ASKRPTR': ['A123'], 'ALFRTSKR': ['A123']})\n"
     ]
    }
   ],
   "source": [
    "lookup_dict = ({},{})\n",
    "\n",
    "name_list = list( itertools.combinations([\"peter\", \"alfred\", \"escher\"],2))\n",
    "print(\"Name combinations: \"+str(name_list))\n",
    "add_combinations_to_directory(name_list, 'A123')\n",
    "print(\"Lookup directory: \"+lookup_dict.__str__())"
   ]
  },
  {
   "cell_type": "markdown",
   "metadata": {},
   "source": [
    "As one can see in the above output: The value of the dictionary is a list element `[person_id]` . We are doing that because potentially we want to store a second name combination which will map to the same key. Therefore we have to ensure that we can store multiple person identifiers in the value. More about that later."
   ]
  },
  {
   "cell_type": "markdown",
   "metadata": {},
   "source": [
    "The above name list is not complete yet. What we said is that we want to compare any combination. At the moment we have only added combinations with two elements.\n",
    "Our complete name list would look as follows (3 elements):"
   ]
  },
  {
   "cell_type": "code",
   "execution_count": 9,
   "metadata": {},
   "outputs": [
    {
     "name": "stdout",
     "output_type": "stream",
     "text": [
      "[('peter', 'alfred', 'escher'), ('peter', 'alfred'), ('peter', 'escher'), ('alfred', 'escher'), ('peter',), ('alfred',), ('escher',)]\n"
     ]
    }
   ],
   "source": [
    "name_list = [('peter','alfred','escher')]\n",
    "name_list.extend(itertools.combinations([\"peter\", \"alfred\", 'escher'],2))\n",
    "name_list.extend(itertools.combinations([\"peter\", \"alfred\", 'escher'],1))\n",
    "print(name_list)"
   ]
  },
  {
   "cell_type": "markdown",
   "metadata": {},
   "source": [
    "Let's add our tuple list to our lookup directoy"
   ]
  },
  {
   "cell_type": "code",
   "execution_count": 10,
   "metadata": {},
   "outputs": [
    {
     "name": "stdout",
     "output_type": "stream",
     "text": [
      "Lookup directory: ({'ALFRTXRPTR': ['A123'], 'ALFRTPTR': ['A123'], 'AXRPTR': ['A123'], 'ALFRTXR': ['A123'], 'PTR': ['A123'], 'ALFRT': ['A123'], 'AXR': ['A123']}, {'ALFRTSKRPTR': ['A123'], '': ['A123'], 'ASKRPTR': ['A123'], 'ALFRTSKR': ['A123'], 'ASKR': ['A123']})\n"
     ]
    }
   ],
   "source": [
    "lookup_dict = ({},{})\n",
    "add_combinations_to_directory(name_list, 'A123')\n",
    "print(\"Lookup directory: \"+lookup_dict.__str__())"
   ]
  },
  {
   "cell_type": "markdown",
   "metadata": {},
   "source": [
    "Let's enhance our function `add_combinations_to_directory` in order to handle the existence of dictionary keys and values:\n",
    "* check if the key already exists\n",
    "* in case the key already exists, check if the value array already contains `person_id`\n",
    "* in not, then add the `person_id`to the value arry"
   ]
  },
  {
   "cell_type": "code",
   "execution_count": 11,
   "metadata": {},
   "outputs": [],
   "source": [
    "def add_combinations_to_directory(name_tuple_list,person_id):\n",
    "    for name_tuple in name_tuple_list:\n",
    "        concat_name = generate_normalized_name(name_tuple)\n",
    "        metaphone_tuple = doublemetaphone(concat_name)\n",
    "        if metaphone_tuple[0] in lookup_dict[0]:\n",
    "            if not person_id in lookup_dict[0][metaphone_tuple[0]]:\n",
    "                lookup_dict[0][metaphone_tuple[0]].append(person_id)\n",
    "        else:\n",
    "            lookup_dict[0][metaphone_tuple[0]] = [person_id]\n",
    "        if metaphone_tuple[1] in lookup_dict[1]:\n",
    "            if not person_id in lookup_dict[1][metaphone_tuple[1]]:\n",
    "                lookup_dict[1][metaphone_tuple[1]].append(person_id)\n",
    "        else:\n",
    "            lookup_dict[1][metaphone_tuple[1]] = [person_id]"
   ]
  },
  {
   "cell_type": "code",
   "execution_count": 12,
   "metadata": {},
   "outputs": [
    {
     "name": "stdout",
     "output_type": "stream",
     "text": [
      "[('peter', 'alfred'), ('peter', 'king'), ('alfred', 'king')]\n",
      "Lookup directory: ({'ALFRTXRPTR': ['A123'], 'ALFRTPTR': ['A123', 'A555'], 'AXRPTR': ['A123'], 'ALFRTXR': ['A123'], 'PTR': ['A123'], 'ALFRT': ['A123'], 'AXR': ['A123'], 'KNKPTR': ['A555'], 'ALFRTKNK': ['A555']}, {'ALFRTSKRPTR': ['A123'], '': ['A123', 'A555'], 'ASKRPTR': ['A123'], 'ALFRTSKR': ['A123'], 'ASKR': ['A123']})\n"
     ]
    }
   ],
   "source": [
    "name_list = list( itertools.combinations([\"peter\", \"alfred\", 'king'],2))\n",
    "print(name_list)\n",
    "add_combinations_to_directory(name_list, 'A555')\n",
    "print(\"Lookup directory: \"+lookup_dict.__str__())"
   ]
  },
  {
   "cell_type": "markdown",
   "metadata": {},
   "source": [
    "As one can see in the above example. Certain keys are now pointing to two person identifiers, e.g. `'ALFRTPTR': ['A123', 'A555']`"
   ]
  },
  {
   "cell_type": "markdown",
   "metadata": {},
   "source": [
    "## Generalize our Name Component Permutation Generator\n",
    "\n",
    "Up to now we were preparing our `name_list` manually for 3,2 and 1 element(s). Let's get that implemented into a function as well. We define a general `generate_combinations` function, which calculates all permutations for `n` name components passed in via the `name_list`:"
   ]
  },
  {
   "cell_type": "code",
   "execution_count": 13,
   "metadata": {},
   "outputs": [],
   "source": [
    "def generate_combinations(name_tuple):\n",
    "    perms = []\n",
    "    perms.append(name_tuple)\n",
    "    i = len(list(name_tuple))-1\n",
    "    while i > 0:\n",
    "        perms.extend(itertools.combinations(name_tuple,i))\n",
    "        i -=1\n",
    "    return perms"
   ]
  },
  {
   "cell_type": "code",
   "execution_count": 14,
   "metadata": {},
   "outputs": [
    {
     "data": {
      "text/plain": [
       "\"[('peter', 'alfred', 'escher'), ('peter', 'alfred'), ('peter', 'escher'), ('alfred', 'escher'), ('peter',), ('alfred',), ('escher',)]\""
      ]
     },
     "execution_count": 14,
     "metadata": {},
     "output_type": "execute_result"
    }
   ],
   "source": [
    "perms = generate_combinations((\"peter\",\"alfred\",\"escher\"))\n",
    "perms.__str__()"
   ]
  },
  {
   "cell_type": "markdown",
   "metadata": {},
   "source": [
    "Let's define the overall function which will call the two functions we defined:"
   ]
  },
  {
   "cell_type": "code",
   "execution_count": 15,
   "metadata": {},
   "outputs": [],
   "source": [
    "def add_person_to_lookup_directory(person_id, name_tuple):\n",
    "    combs = generate_combinations(name_tuple) \n",
    "    add_combinations_to_directory(combs,person_id)"
   ]
  },
  {
   "cell_type": "code",
   "execution_count": 16,
   "metadata": {},
   "outputs": [
    {
     "name": "stdout",
     "output_type": "stream",
     "text": [
      "Lookup directory: ({'ALFRTXRPTR': ['A123'], 'ALFRTPTR': ['A123'], 'AXRPTR': ['A123', 'A235'], 'ALFRTXR': ['A123'], 'PTR': ['A123', 'A235', 'A345'], 'ALFRT': ['A123'], 'AXR': ['A123', 'A235'], 'KTJNPTR': ['A345'], 'JNPTR': ['A345'], 'KTPTR': ['A345'], 'KTJN': ['A345'], 'JN': ['A345'], 'KT': ['A345']}, {'ALFRTSKRPTR': ['A123'], '': ['A123', 'A235', 'A345'], 'ASKRPTR': ['A123', 'A235'], 'ALFRTSKR': ['A123'], 'ASKR': ['A123', 'A235'], 'ANPTR': ['A345'], 'AN': ['A345']})\n"
     ]
    }
   ],
   "source": [
    "lookup_dict = ({},{})\n",
    "add_person_to_lookup_directory(\"A123\",(\"peter\", \"alfred\", \"escher\"))\n",
    "add_person_to_lookup_directory(\"A235\",(\"peter\", \"escher\"))\n",
    "add_person_to_lookup_directory(\"A345\",(\"peter\", \"john\", \"good\"))\n",
    "print(\"Lookup directory: \"+lookup_dict.__str__())"
   ]
  },
  {
   "cell_type": "markdown",
   "metadata": {},
   "source": [
    "As an example: \"peter\" as a single component has as key the value `PTR` and as value list the three identifiers: ` 'PTR': ['A123', 'A235', 'A345']`"
   ]
  },
  {
   "cell_type": "markdown",
   "metadata": {},
   "source": [
    "So we have  a function ready which populates our lookup table. Now we have to design a `matchName` function which will check if the name or its combination of it  matching to any lookup table entry\n",
    "\n",
    "## Creating a \"Matching Name\" Function\n",
    "In this first iteration we construct a `match_list` which will store all lookup entries which are matching any permutations of our `name_list` "
   ]
  },
  {
   "cell_type": "code",
   "execution_count": 17,
   "metadata": {},
   "outputs": [],
   "source": [
    "def match_name(name_tuple):\n",
    "    match_list = []\n",
    "    combinations = generate_combinations(name_tuple) \n",
    "    for comb_tuple in combinations:\n",
    "        concat_name = generate_normalized_name(comb_tuple)\n",
    "        metaphone_tuple = doublemetaphone(concat_name)\n",
    "        if metaphone_tuple[0] in lookup_dict[0]:\n",
    "            match_list.append((concat_name, lookup_dict[0][metaphone_tuple[0]]))\n",
    "    print(\"Match with \"+ match_list.__str__())"
   ]
  },
  {
   "cell_type": "code",
   "execution_count": 18,
   "metadata": {},
   "outputs": [
    {
     "name": "stdout",
     "output_type": "stream",
     "text": [
      "Match with [('alfredpeter', ['A123']), ('peter', ['A123', 'A235', 'A345']), ('alfred', ['A123'])]\n"
     ]
    }
   ],
   "source": [
    "match_name([\"peter\",\"alfred\"])"
   ]
  },
  {
   "cell_type": "markdown",
   "metadata": {},
   "source": [
    "As we can see, we have two tuples which point to one `person_id` and one tuple `peter` which points to 3 persons (Obviously surnames will be re-used by multiple persons). The two tuples pointing to one person have  the **same** id `'A123'`. That means our match identified exactly one person. Would we have single person tuples in our result which are pointing to different persons would mean our match isn't unique. \n",
    "\n",
    "So we enhance our method to do this uniquness check, as well:\n",
    "\n",
    "* Do we have in our match list one or multiple tuples which always point to one single person?\n",
    "* If yes we a found a unique record otherwise we return _None_\n"
   ]
  },
  {
   "cell_type": "code",
   "execution_count": 19,
   "metadata": {},
   "outputs": [],
   "source": [
    "def match_name(name_tuple):\n",
    "    match_list = []\n",
    "    combinations = generate_combinations(name_tuple) \n",
    "    for comb_tuple in combinations:\n",
    "        concat_name = generate_normalized_name(comb_tuple)\n",
    "        metaphone_tuple = doublemetaphone(concat_name)\n",
    "        if metaphone_tuple[0] in lookup_dict[0]:\n",
    "            match_list.append((concat_name, lookup_dict[0][metaphone_tuple[0]]))\n",
    "    # Iterate through all matches and check for single result tuples\n",
    "    # Ensure that the singe result tuples are pointing to the same id\n",
    "    # If not or no single result tuple exists, return 'None'\n",
    "    unique_id = None\n",
    "    for match_tuple in match_list:\n",
    "        if len(match_tuple[1]) == 1:\n",
    "            if  unique_id is not None:\n",
    "                if unique_id != match_tuple[1][0]:\n",
    "                    unique_id = None\n",
    "                    break\n",
    "            else:\n",
    "                unique_id = match_tuple[1][0]\n",
    "    return unique_id, match_list\n",
    "                     \n"
   ]
  },
  {
   "cell_type": "code",
   "execution_count": 20,
   "metadata": {},
   "outputs": [
    {
     "name": "stdout",
     "output_type": "stream",
     "text": [
      "Unique Id (expect A123): A123\n",
      "Unique Id (expect A345): A345\n",
      "Unique Id (expect None): None\n"
     ]
    }
   ],
   "source": [
    "id = match_name((\"peter\",\"alfred\"))\n",
    "print(\"Unique Id (expect A123): \"+id[0])\n",
    "id = match_name((\"peter\",\"john\"))\n",
    "print(\"Unique Id (expect A345): \"+id[0])\n",
    "id = match_name((\"peter\",\"escher\"))\n",
    "print(\"Unique Id (expect None): \"+str(id[0]))"
   ]
  },
  {
   "cell_type": "markdown",
   "metadata": {},
   "source": [
    "## Enhancing our Function with the Ranking Feature\n",
    "\n",
    "As explained in our last tutorial, the ranking capability of our alogrithm is rather limited, nevertheless we want to used its feature as well in our `match_name`function."
   ]
  },
  {
   "cell_type": "code",
   "execution_count": null,
   "metadata": {},
   "outputs": [],
   "source": [
    "from enum import Enum\n",
    "\n",
    "class Threshold(Enum):\n",
    "    WEAK = 0\n",
    "    NORMAL = 1\n",
    "    STRONG = 2\n",
    "    \n",
    "def double_metaphone_compare(tuple1,tuple2,threshold):\n",
    "    if threshold == Threshold.STRONG:\n",
    "        if tuple1[0] == tuple2[0]:   \n",
    "            return (True,Threshold.STRONG)\n",
    "    elif threshold == Threshold.NORMAL:\n",
    "        if tuple1[0] == tuple2[1] or tuple1[1] == tuple2[0]:\n",
    "            return (True,Threshold.NORMAL)\n",
    "    else:\n",
    "        if tuple1[1] == tuple2[1]:\n",
    "            return (True,Threshold.WEAK)\n",
    "    return False"
   ]
  },
  {
   "cell_type": "code",
   "execution_count": null,
   "metadata": {},
   "outputs": [],
   "source": []
  }
 ],
 "metadata": {
  "kernelspec": {
   "display_name": "Python 3",
   "language": "python",
   "name": "python3"
  },
  "language_info": {
   "codemirror_mode": {
    "name": "ipython",
    "version": 3
   },
   "file_extension": ".py",
   "mimetype": "text/x-python",
   "name": "python",
   "nbconvert_exporter": "python",
   "pygments_lexer": "ipython3",
   "version": "3.7.1"
  }
 },
 "nbformat": 4,
 "nbformat_minor": 2
}
