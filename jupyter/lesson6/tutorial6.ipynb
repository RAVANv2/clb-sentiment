{
 "cells": [
  {
   "cell_type": "markdown",
   "metadata": {},
   "source": [
    "# Lesson 6\n",
    "\n",
    "In this tutorial we elaborate a way to establish a lookup table for a person name string variable, which consists of multiple components, i.e. first name, middle name, last name.\n",
    "\n",
    "As a library we use _metaphone_ which may not be installed in your environment. When you are based on conda python envrionment you may have to install the package via the _pip_ command as described here\n",
    "\n",
    "* https://www.puzzlr.org/install-packages-pip-conda-environment/\n",
    "\n",
    "## Introduction\n",
    "\n",
    "Suppose that the person is called _Peter Alfred Escher_ and we got that name via an official API.\n",
    "\n",
    "We use the standard library _itertools_ to calcutlate our permutations and we require the doublemetaphone algorithm."
   ]
  },
  {
   "cell_type": "code",
   "execution_count": 1,
   "metadata": {},
   "outputs": [],
   "source": [
    "import itertools\n",
    "from metaphone import doublemetaphone"
   ]
  },
  {
   "cell_type": "markdown",
   "metadata": {},
   "source": [
    "Suppose we retrieved the full qualified name in one of our variables and we have also a unique identifier of this person."
   ]
  },
  {
   "cell_type": "code",
   "execution_count": 2,
   "metadata": {},
   "outputs": [],
   "source": [
    "person_qualified_name = \"Peter Alfed Escher\"\n",
    "person_id = \"A123\""
   ]
  },
  {
   "cell_type": "markdown",
   "metadata": {},
   "source": [
    "As a fresh up,  we use the _doubelmetaphone_ alogrithm to generate a tuple of keys which can be used for the comparison. Refer to the tutorial __[Medium Towards Data Science Tutorial](https://towardsdatascience.com/python-tutorial-fuzzy-name-matching-algorithms-7a6f43322cc5)__"
   ]
  },
  {
   "cell_type": "code",
   "execution_count": 3,
   "metadata": {},
   "outputs": [
    {
     "data": {
      "text/plain": [
       "\"('PTRLFTXR', 'PTRLFTSKR')\""
      ]
     },
     "execution_count": 3,
     "metadata": {},
     "output_type": "execute_result"
    }
   ],
   "source": [
    "tp = doublemetaphone(\"Peter Alfed Escher\")\n",
    "tp.__str__()"
   ]
  },
  {
   "cell_type": "markdown",
   "metadata": {},
   "source": [
    "We now want to calculate all permutations of this name, which could be used in a Twitter account name. I.e. potentially our person will miss out some components in his Twittter account name, he could use the name \"Peter Escher\" or \"Peter A. Escher\".\n",
    "As a first step we calculate all permutations of 3 the name components:"
   ]
  },
  {
   "cell_type": "code",
   "execution_count": 4,
   "metadata": {
    "scrolled": true
   },
   "outputs": [
    {
     "name": "stdout",
     "output_type": "stream",
     "text": [
      "[('peter', 'alfred', 'escher'), ('peter', 'escher', 'alfred'), ('alfred', 'peter', 'escher'), ('alfred', 'escher', 'peter'), ('escher', 'peter', 'alfred'), ('escher', 'alfred', 'peter')]\n"
     ]
    }
   ],
   "source": [
    "name_list = list( itertools.permutations([\"peter\", \"alfred\", \"escher\"]))\n",
    "print(name_list)"
   ]
  },
  {
   "cell_type": "markdown",
   "metadata": {},
   "source": [
    "## Build up a Lookup Directory \n",
    "We now to build up a lookup dictionary. Each name component combination we concatenate into a single string, generate a metaphone tuple and add it to our dictionary. As value we store our unique person identifier. For this we define a function."
   ]
  },
  {
   "cell_type": "code",
   "execution_count": 5,
   "metadata": {},
   "outputs": [
    {
     "name": "stdout",
     "output_type": "stream",
     "text": [
      "Our dictionary: [{'PTRLFRTXR': ['A123'], 'PTRXRLFRT': ['A123'], 'ALFRTPTRXR': ['A123'], 'ALFRTXRPTR': ['A123'], 'AXRPTRLFRT': ['A123'], 'AXRLFRTPTR': ['A123']}, {'PTRLFRTSKR': ['A123'], 'PTRSKRLFRT': ['A123'], 'ALFRTPTRSKR': ['A123'], 'ALFRTSKRPTR': ['A123'], 'ASKRPTRLFRT': ['A123'], 'ASKRLFRTPTR': ['A123']}]\n"
     ]
    }
   ],
   "source": [
    "lookup_dict = [{},{}]\n",
    "\n",
    "def add_permutations_to_dictionary(name_list,person_id):\n",
    "    for name_component in name_list:\n",
    "        name = ''.join(name_component)\n",
    "        metaphone_tuple = doublemetaphone(name)\n",
    "        lookup_dict[0][metaphone_tuple[0]] = [person_id]\n",
    "        lookup_dict[1][metaphone_tuple[1]] = [person_id]\n",
    "\n",
    "add_permutations_to_dictionary(name_list, person_id)\n",
    "print(\"Our dictionary: \"+lookup_dict.__str__())"
   ]
  },
  {
   "cell_type": "markdown",
   "metadata": {},
   "source": [
    "As one can see in the above output: The value of the dictionary is a list element `[person_id]` . We are doing that because potentially we want to store a second name combination which will map to the same key. Therefore we have to ensure that we can store multiple person identifiers in the value .\n",
    "\n",
    "Perhaps our user was missing out a name component and was registering on Twitter with the account name _Peter Escher_ or as _Escher Peter_. So let's get  also all these permutations. This can be easily achieved by passing an additional parameter (in our case 2) to the _permutations_ method, which defines the number of elements in the permutations."
   ]
  },
  {
   "cell_type": "code",
   "execution_count": 6,
   "metadata": {},
   "outputs": [
    {
     "name": "stdout",
     "output_type": "stream",
     "text": [
      "[('peter', 'alfred'), ('peter', 'escher'), ('alfred', 'peter'), ('alfred', 'escher'), ('escher', 'peter'), ('escher', 'alfred')]\n"
     ]
    }
   ],
   "source": [
    "name_list = list( itertools.permutations([\"peter\", \"alfred\", \"escher\"],2))\n",
    "print(name_list)"
   ]
  },
  {
   "cell_type": "markdown",
   "metadata": {},
   "source": [
    "Let's add our permutations to our lookup dictionary"
   ]
  },
  {
   "cell_type": "code",
   "execution_count": 7,
   "metadata": {},
   "outputs": [
    {
     "name": "stdout",
     "output_type": "stream",
     "text": [
      "Our dictionary: [{'PTRLFRTXR': ['A123'], 'PTRXRLFRT': ['A123'], 'ALFRTPTRXR': ['A123'], 'ALFRTXRPTR': ['A123'], 'AXRPTRLFRT': ['A123'], 'AXRLFRTPTR': ['A123'], 'PTRLFRT': ['A123'], 'PTRXR': ['A123'], 'ALFRTPTR': ['A123'], 'ALFRTXR': ['A123'], 'AXRPTR': ['A123'], 'AXRLFRT': ['A123']}, {'PTRLFRTSKR': ['A123'], 'PTRSKRLFRT': ['A123'], 'ALFRTPTRSKR': ['A123'], 'ALFRTSKRPTR': ['A123'], 'ASKRPTRLFRT': ['A123'], 'ASKRLFRTPTR': ['A123'], '': ['A123'], 'PTRSKR': ['A123'], 'ALFRTSKR': ['A123'], 'ASKRPTR': ['A123'], 'ASKRLFRT': ['A123']}]\n"
     ]
    }
   ],
   "source": [
    "add_permutations_to_dictionary(name_list, person_id)\n",
    "print(\"Our dictionary: \"+lookup_dict.__str__())"
   ]
  },
  {
   "cell_type": "markdown",
   "metadata": {},
   "source": [
    "To finalize this, our user could have just one of his name component used when registering with Twitter."
   ]
  },
  {
   "cell_type": "code",
   "execution_count": 8,
   "metadata": {},
   "outputs": [
    {
     "name": "stdout",
     "output_type": "stream",
     "text": [
      "[('peter',), ('alfred',), ('escher',)]\n"
     ]
    }
   ],
   "source": [
    "name_list = list( itertools.permutations([\"peter\", \"alfred\", \"escher\"],1))\n",
    "print(name_list)"
   ]
  },
  {
   "cell_type": "markdown",
   "metadata": {},
   "source": [
    "Let's add also this permutation to our dictionary."
   ]
  },
  {
   "cell_type": "code",
   "execution_count": 9,
   "metadata": {},
   "outputs": [
    {
     "name": "stdout",
     "output_type": "stream",
     "text": [
      "Our dictionary: [{'PTRLFRTXR': ['A123'], 'PTRXRLFRT': ['A123'], 'ALFRTPTRXR': ['A123'], 'ALFRTXRPTR': ['A123'], 'AXRPTRLFRT': ['A123'], 'AXRLFRTPTR': ['A123'], 'PTRLFRT': ['A123'], 'PTRXR': ['A123'], 'ALFRTPTR': ['A123'], 'ALFRTXR': ['A123'], 'AXRPTR': ['A123'], 'AXRLFRT': ['A123'], 'PTR': ['A123'], 'ALFRT': ['A123'], 'AXR': ['A123']}, {'PTRLFRTSKR': ['A123'], 'PTRSKRLFRT': ['A123'], 'ALFRTPTRSKR': ['A123'], 'ALFRTSKRPTR': ['A123'], 'ASKRPTRLFRT': ['A123'], 'ASKRLFRTPTR': ['A123'], '': ['A123'], 'PTRSKR': ['A123'], 'ALFRTSKR': ['A123'], 'ASKRPTR': ['A123'], 'ASKRLFRT': ['A123'], 'ASKR': ['A123']}]\n"
     ]
    }
   ],
   "source": [
    "add_permutations_to_dictionary(name_list, person_id)\n",
    "print(\"Our dictionary: \"+lookup_dict.__str__())"
   ]
  },
  {
   "cell_type": "markdown",
   "metadata": {},
   "source": [
    "Let's enhance our function in order to handle the existence of keys and values:\n",
    "* check if the key already exists\n",
    "* in case the key already exists, check if the value array already contains `person_id`\n",
    "* in not, then add the `person_id`to the value arry"
   ]
  },
  {
   "cell_type": "code",
   "execution_count": 13,
   "metadata": {},
   "outputs": [
    {
     "name": "stdout",
     "output_type": "stream",
     "text": [
      "Our dictionary: [{'PTRLFRTXR': ['A123'], 'PTRXRLFRT': ['A123'], 'ALFRTPTRXR': ['A123'], 'ALFRTXRPTR': ['A123'], 'AXRPTRLFRT': ['A123'], 'AXRLFRTPTR': ['A123'], 'PTRLFRT': ['A123', 'A555'], 'PTRXR': ['A123', 'A235'], 'ALFRTPTR': ['A123'], 'ALFRTXR': ['A123'], 'AXRPTR': ['A123', 'A235'], 'AXRLFRT': ['A123'], 'PTR': ['A123', 'A235', 'A345'], 'ALFRT': ['A123'], 'AXR': ['A123', 'A235'], 'PTRJNKT': ['A345'], 'PTRKTJN': ['A345'], 'JNPTRKT': ['A345'], 'JNKTPTR': ['A345'], 'KTPTRJN': ['A345'], 'KTJNPTR': ['A345'], 'PTRJN': ['A345'], 'PTRKT': ['A345'], 'JNPTR': ['A345'], 'JNKT': ['A345'], 'KTPTR': ['A345'], 'KTJN': ['A345'], 'JN': ['A345'], 'KT': ['A345']}, {'PTRLFRTSKR': ['A123'], 'PTRSKRLFRT': ['A123'], 'ALFRTPTRSKR': ['A123'], 'ALFRTSKRPTR': ['A123'], 'ASKRPTRLFRT': ['A123'], 'ASKRLFRTPTR': ['A123'], '': ['A123', 'A235', 'A345', 'A555'], 'PTRSKR': ['A123', 'A235'], 'ALFRTSKR': ['A123'], 'ASKRPTR': ['A123', 'A235'], 'ASKRLFRT': ['A123'], 'ASKR': ['A123', 'A235'], 'ANPTRKT': ['A345'], 'ANKTPTR': ['A345'], 'ANPTR': ['A345'], 'ANKT': ['A345'], 'AN': ['A345']}]\n"
     ]
    }
   ],
   "source": [
    "def add_permutations_to_dictionary(perm_tuple_list,person_id):\n",
    "    for perm_tuple in perm_tuple_list:\n",
    "        concat_name = ''.join(perm_tuple)\n",
    "        metaphone_tuple = doublemetaphone(concat_name)\n",
    "        if metaphone_tuple[0] in lookup_dict[0]:\n",
    "            if not person_id in lookup_dict[0][metaphone_tuple[0]]:\n",
    "                lookup_dict[0][metaphone_tuple[0]].append(person_id)\n",
    "        else:\n",
    "            lookup_dict[0][metaphone_tuple[0]] = [person_id]\n",
    "        if metaphone_tuple[1] in lookup_dict[1]:\n",
    "            if not person_id in lookup_dict[1][metaphone_tuple[1]]:\n",
    "                lookup_dict[1][metaphone_tuple[1]].append(person_id)\n",
    "        else:\n",
    "            lookup_dict[1][metaphone_tuple[1]] = [person_id]\n",
    "    \n",
    "    \n",
    "add_permutations_to_dictionary([\"Peter Alfred\"], \"A555\")\n",
    "print(\"Our dictionary: \"+lookup_dict.__str__())"
   ]
  },
  {
   "cell_type": "markdown",
   "metadata": {},
   "source": [
    "As one can see in the above example. Certain keys are now pointing to two person identifiers, e.g. `'PTRLFRT': ['A123', 'A555']`"
   ]
  },
  {
   "cell_type": "markdown",
   "metadata": {},
   "source": [
    "## Generalize our Name Component Permutation Generator\n",
    "\n",
    "Up to now we were preparing our `name_list` manually for 3,2 and 1 element(s). Let's get that implemented into a function as well. We define a general `generatePermutations` method, which calculates all permutations for `n` name components passed in via the `name_list`:"
   ]
  },
  {
   "cell_type": "code",
   "execution_count": 11,
   "metadata": {},
   "outputs": [
    {
     "data": {
      "text/plain": [
       "\"[('peter', 'escher'), ('escher', 'peter'), ('peter',), ('escher',)]\""
      ]
     },
     "execution_count": 11,
     "metadata": {},
     "output_type": "execute_result"
    }
   ],
   "source": [
    "def generate_permutations(name_list):\n",
    "    perms = []\n",
    "    perms.extend(itertools.permutations(name_list))\n",
    "    i = len(name_list)-1\n",
    "    while i > 0:\n",
    "        perms.extend(itertools.permutations(name_list,i))\n",
    "        i -=1\n",
    "    return perms\n",
    "\n",
    "perms = generate_permutations([\"peter\",\"escher\"])\n",
    "perms.__str__()"
   ]
  },
  {
   "cell_type": "markdown",
   "metadata": {},
   "source": [
    "Let's define the overall function which will call the two functions we defined:"
   ]
  },
  {
   "cell_type": "code",
   "execution_count": 15,
   "metadata": {},
   "outputs": [
    {
     "name": "stdout",
     "output_type": "stream",
     "text": [
      "Our dictionary: [{'PTRLFRTXR': ['A123'], 'PTRXRLFRT': ['A123'], 'ALFRTPTRXR': ['A123'], 'ALFRTXRPTR': ['A123'], 'AXRPTRLFRT': ['A123'], 'AXRLFRTPTR': ['A123'], 'PTRLFRT': ['A123'], 'PTRXR': ['A123', 'A235'], 'ALFRTPTR': ['A123'], 'ALFRTXR': ['A123'], 'AXRPTR': ['A123', 'A235'], 'AXRLFRT': ['A123'], 'PTR': ['A123', 'A235', 'A345'], 'ALFRT': ['A123'], 'AXR': ['A123', 'A235'], 'PTRJNKT': ['A345'], 'PTRKTJN': ['A345'], 'JNPTRKT': ['A345'], 'JNKTPTR': ['A345'], 'KTPTRJN': ['A345'], 'KTJNPTR': ['A345'], 'PTRJN': ['A345'], 'PTRKT': ['A345'], 'JNPTR': ['A345'], 'JNKT': ['A345'], 'KTPTR': ['A345'], 'KTJN': ['A345'], 'JN': ['A345'], 'KT': ['A345']}, {'PTRLFRTSKR': ['A123'], 'PTRSKRLFRT': ['A123'], 'ALFRTPTRSKR': ['A123'], 'ALFRTSKRPTR': ['A123'], 'ASKRPTRLFRT': ['A123'], 'ASKRLFRTPTR': ['A123'], '': ['A123', 'A235', 'A345'], 'PTRSKR': ['A123', 'A235'], 'ALFRTSKR': ['A123'], 'ASKRPTR': ['A123', 'A235'], 'ASKRLFRT': ['A123'], 'ASKR': ['A123', 'A235'], 'ANPTRKT': ['A345'], 'ANKTPTR': ['A345'], 'ANPTR': ['A345'], 'ANKT': ['A345'], 'AN': ['A345']}]\n"
     ]
    }
   ],
   "source": [
    "lookup_dict = [{},{}]\n",
    "def add_person_to_lookup_table(person_id, name_list):\n",
    "    perms = generate_permutations(name_list) \n",
    "    add_permutations_to_dictionary(perms,person_id)\n",
    "\n",
    "add_person_to_lookup_table(\"A123\",[\"peter\", \"alfred\", \"escher\"])\n",
    "add_person_to_lookup_table(\"A235\",[\"peter\", \"escher\"])\n",
    "add_person_to_lookup_table(\"A345\",[\"peter\", \"john\", \"goood\"])\n",
    "print(\"Our dictionary: \"+lookup_dict.__str__())"
   ]
  },
  {
   "cell_type": "markdown",
   "metadata": {},
   "source": [
    "As an example: \"peter\" as a single component has as key the value `PTR` and as value list the three identifiers: ` 'PTR': ['A123', 'A235', 'A345']`"
   ]
  },
  {
   "cell_type": "markdown",
   "metadata": {},
   "source": [
    "So we have now a function ready which populates or lookup table. Now we have to design a `matchName` function which will check if the name or its permutations are matching to any lookup table entry\n",
    "\n",
    "## MatchName Function\n",
    "In this first iteration we construct a `match_list` will store all lookup entries which are matching any permutations of our `name_list` "
   ]
  },
  {
   "cell_type": "code",
   "execution_count": 35,
   "metadata": {},
   "outputs": [
    {
     "name": "stdout",
     "output_type": "stream",
     "text": [
      "Match with [('peteralfred', ['A123']), ('alfredpeter', ['A123']), ('peter', ['A123', 'A235', 'A345']), ('alfred', ['A123'])]\n"
     ]
    }
   ],
   "source": [
    "def match_name(name_list):\n",
    "    match_list = []\n",
    "    permutation_list = generate_permutations(name_list) \n",
    "    for perm_tuple in permutation_list:\n",
    "        concat_name = ''.join(perm_tuple)\n",
    "        metaphone_tuple = doublemetaphone(concat_name)\n",
    "        if metaphone_tuple[0] in lookup_dict[0]:\n",
    "            match_list.append((concat_name, lookup_dict[0][metaphone_tuple[0]]))\n",
    "    print(\"Match with \"+ match_list.__str__())\n",
    "              \n",
    "match_name([\"peter\",\"alfred\"])"
   ]
  },
  {
   "cell_type": "markdown",
   "metadata": {},
   "source": [
    "As we can see, we have three tuples which point to one `person_id`, all of them have the same id `'A123'`. So we enhance our method to do this uniquness check, that means\n",
    "\n",
    "* Do we have in our match list one or multiple tuples which always point to one single person ?\n"
   ]
  },
  {
   "cell_type": "code",
   "execution_count": 46,
   "metadata": {},
   "outputs": [
    {
     "name": "stdout",
     "output_type": "stream",
     "text": [
      "Unique Id (expect A123): A123\n",
      "Unique Id (expect A345): A345\n",
      "Unique Id (expect None): None\n"
     ]
    }
   ],
   "source": [
    "def match_name(name_list):\n",
    "    match_list = []\n",
    "    permutation_list = generate_permutations(name_list) \n",
    "    for perm_tuple in permutation_list:\n",
    "        concat_name = ''.join(perm_tuple)\n",
    "        metaphone_tuple = doublemetaphone(concat_name)\n",
    "        if metaphone_tuple[0] in lookup_dict[0]:\n",
    "            match_list.append((concat_name, lookup_dict[0][metaphone_tuple[0]]))\n",
    "    # Our enhancement\n",
    "    unique_id = None\n",
    "    for match_tuple in match_list:\n",
    "        if len(match_tuple[1]) == 1:\n",
    "            if  unique_id != None:\n",
    "                if unique_id != match_tuple[1][0]:\n",
    "                    unique_id = None\n",
    "                    break\n",
    "            else:\n",
    "                unique_id = match_tuple[1][0]\n",
    "    return (unique_id, match_list)\n",
    "                     \n",
    "id = match_name([\"peter\",\"alfred\"])\n",
    "print(\"Unique Id (expect A123): \"+id[0])\n",
    "id = match_name([\"peter\",\"john\"])\n",
    "print(\"Unique Id (expect A345): \"+id[0])\n",
    "id = match_name([\"peter\",\"escher\"])\n",
    "print(\"Unique Id (expect None): \"+str(id[0]))"
   ]
  },
  {
   "cell_type": "code",
   "execution_count": null,
   "metadata": {},
   "outputs": [],
   "source": []
  }
 ],
 "metadata": {
  "kernelspec": {
   "display_name": "Python 3",
   "language": "python",
   "name": "python3"
  },
  "language_info": {
   "codemirror_mode": {
    "name": "ipython",
    "version": 3
   },
   "file_extension": ".py",
   "mimetype": "text/x-python",
   "name": "python",
   "nbconvert_exporter": "python",
   "pygments_lexer": "ipython3",
   "version": "3.7.1"
  }
 },
 "nbformat": 4,
 "nbformat_minor": 2
}
